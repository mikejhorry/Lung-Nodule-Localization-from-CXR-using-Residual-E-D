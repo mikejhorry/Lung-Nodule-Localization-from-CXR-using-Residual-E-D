{
 "cells": [
  {
   "cell_type": "code",
   "execution_count": null,
   "id": "79f41ad4-6d27-4412-bf84-cc6198eee34a",
   "metadata": {},
   "outputs": [],
   "source": [
    "# sliding window up to number of EPOCHS, 1 2 4, \n",
    "#2 3 4, 3 4 5, etc.\n",
    "EPOCHS = 25\n",
    "WINDOW = 3\n",
    "\n",
    "lst = [1,2,3,4,5,6,7,8] \n",
    "\n",
    "lst = [*range(1, EPOCHS,1)]\n",
    "\n",
    "combos = []\n",
    "\n",
    "def sliding_window(elements, window_size):\n",
    "    \n",
    "    if len(elements) <= window_size:\n",
    "       return elements\n",
    "    for i in range(len(elements)- window_size + 1):\n",
    "        combos.append(elements[i:i+window_size])\n",
    "        \n",
    "sliding_window(lst, 3)\n"
   ]
  },
  {
   "cell_type": "code",
   "execution_count": null,
   "id": "73a9822e-e04c-4d13-a1bd-1112a7da8e43",
   "metadata": {},
   "outputs": [],
   "source": [
    "len(combos)"
   ]
  },
  {
   "cell_type": "code",
   "execution_count": null,
   "id": "6539e82f-377f-428c-9750-a3eb79f76b5e",
   "metadata": {},
   "outputs": [],
   "source": [
    "for i in combos:\n",
    "    #print(i)\n",
    "    epochA = i[0]\n",
    "    stringA = 'model-epoch-{:04d}'.format(i[0])\n",
    "    stringB = 'model-epoch-{:04d}'.format(i[1])\n",
    "    stringC = 'model-epoch-{:04d}'.format(i[2])\n",
    "    \n",
    "    print(stringA)\n",
    "    print(stringB)\n",
    "    print(stringC)\n",
    "    \n",
    "    \n",
    "    \n",
    "#\"{}-{}.h5\".format(EXPERIMENT, 'epoch-{epoch:04d}')    "
   ]
  },
  {
   "cell_type": "code",
   "execution_count": null,
   "id": "32216e96-2c8c-4d18-b85f-9c25bab21424",
   "metadata": {},
   "outputs": [],
   "source": [
    "import os\n",
    "\n",
    "result_file = '/data/mjhorry/Experiments/JSRT Nodule Segmentation/input/nodule_files/JSRT_SOURCE_SEG_A/crossval/split0/predicted/JPCLN001_predict-JSRT_SOURCE_SEG_A-Image Size=2048-Model=RESUNET-L-LR=1e-05-BS=1.png'\n",
    "\n",
    "# always use the last part of the dest path for the test\n",
    "ultimatetest = result_file.split(os.path.sep)[-5]\n"
   ]
  },
  {
   "cell_type": "code",
   "execution_count": null,
   "id": "d5cfcd52-43d5-4932-97ae-810aff8769cd",
   "metadata": {},
   "outputs": [],
   "source": [
    "ultimatetest"
   ]
  },
  {
   "cell_type": "code",
   "execution_count": null,
   "id": "a5f05169-b682-4073-8ee4-dab2a44f6ea3",
   "metadata": {},
   "outputs": [],
   "source": [
    "# draw the model\n",
    "import models\n",
    "DIM=2048\n",
    "model_l = models.ResUNet_L(input_size=(DIM,DIM,1))\n",
    "model_m = models.ResUNet_M(input_size=(DIM,DIM,1))\n",
    "model_s = models.ResUNet_S(input_size=(DIM,DIM,1))\n",
    "\n",
    "models = [model_l,model_m, model_s]\n",
    "\n",
    "\n"
   ]
  },
  {
   "cell_type": "code",
   "execution_count": null,
   "id": "0592c066-1ebf-4d77-ba02-41dcf201878d",
   "metadata": {},
   "outputs": [],
   "source": []
  }
 ],
 "metadata": {
  "kernelspec": {
   "display_name": "Python 3 (ipykernel)",
   "language": "python",
   "name": "python3"
  },
  "language_info": {
   "codemirror_mode": {
    "name": "ipython",
    "version": 3
   },
   "file_extension": ".py",
   "mimetype": "text/x-python",
   "name": "python",
   "nbconvert_exporter": "python",
   "pygments_lexer": "ipython3",
   "version": "3.9.16"
  }
 },
 "nbformat": 4,
 "nbformat_minor": 5
}
